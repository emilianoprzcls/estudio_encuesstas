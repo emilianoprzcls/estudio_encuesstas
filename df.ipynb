{
 "cells": [
  {
   "cell_type": "code",
   "execution_count": 4,
   "metadata": {},
   "outputs": [],
   "source": [
    "import pyreadstat\n",
    "import pandas as pd\n",
    "import numpy as np\n",
    "n=99078159\n"
   ]
  },
  {
   "cell_type": "markdown",
   "metadata": {},
   "source": [
    "# BUENDIA & MARQUEZ\n"
   ]
  },
  {
   "cell_type": "code",
   "execution_count": 5,
   "metadata": {},
   "outputs": [
    {
     "name": "stdout",
     "output_type": "stream",
     "text": [
      "Index(['edo', 'p1_1', 'p1_2', 'p1_3', 'p1_4', 'p1_5', 'p1_6', 'p1_7', 'p2_1',\n",
      "       'p2_2', 'p2_3', 'p3', 'p4', 'p5_1', 'p6_1', 'p5_2', 'p6_2', 'p5_3',\n",
      "       'p6_3', 'p7_1', 'p7_2', 'p7_3', 'p8', 'p9', 'p10_1', 'p10_2', 'p10_3',\n",
      "       'p11_1', 'p12_1', 'p11_2', 'p12_2', 'p11_3', 'p12_3', 's1', 's2', 's3',\n",
      "       's4', 's5', 's6', 's7', 'estrato_s', 'conglomerado', 'urbanidad',\n",
      "       'Circunscripcion', 'resultados', 'PONDERADOR'],\n",
      "      dtype='object')\n"
     ]
    },
    {
     "name": "stderr",
     "output_type": "stream",
     "text": [
      "/var/folders/qj/j8gpmhcn7yb095gzd1m03s300000gn/T/ipykernel_6362/1063707208.py:21: SettingWithCopyWarning: \n",
      "A value is trying to be set on a copy of a slice from a DataFrame.\n",
      "Try using .loc[row_indexer,col_indexer] = value instead\n",
      "\n",
      "See the caveats in the documentation: https://pandas.pydata.org/pandas-docs/stable/user_guide/indexing.html#returning-a-view-versus-a-copy\n",
      "  selected_df['partido'] = selected_df['voto'].map(mapeo_partidos)\n",
      "/var/folders/qj/j8gpmhcn7yb095gzd1m03s300000gn/T/ipykernel_6362/1063707208.py:22: SettingWithCopyWarning: \n",
      "A value is trying to be set on a copy of a slice from a DataFrame.\n",
      "Try using .loc[row_indexer,col_indexer] = value instead\n",
      "\n",
      "See the caveats in the documentation: https://pandas.pydata.org/pandas-docs/stable/user_guide/indexing.html#returning-a-view-versus-a-copy\n",
      "  selected_df['encuesta'] = 1\n",
      "/var/folders/qj/j8gpmhcn7yb095gzd1m03s300000gn/T/ipykernel_6362/1063707208.py:24: SettingWithCopyWarning: \n",
      "A value is trying to be set on a copy of a slice from a DataFrame.\n",
      "Try using .loc[row_indexer,col_indexer] = value instead\n",
      "\n",
      "See the caveats in the documentation: https://pandas.pydata.org/pandas-docs/stable/user_guide/indexing.html#returning-a-view-versus-a-copy\n",
      "  selected_df['homo_pon'] = (selected_df['ponderado']*n)/tot\n"
     ]
    }
   ],
   "source": [
    "\n",
    "# Read the .sav file using pyreadstat\n",
    "df, meta = pyreadstat.read_sav('bd/buendia_marquez/2311_ENCUESTA_NACIONAL.sav')\n",
    "print(df.columns)\n",
    "selected_df = df[['edo', 'p3', 's1', 's2', 'PONDERADOR']]\n",
    "selected_df.columns = ['estado', 'voto', 'genero', 'edad', 'ponderado']\n",
    "mapeo_partidos = {\n",
    "    1: 'PAN-PRI-PRD',\n",
    "    2: 'PAN-PRI-PRD',\n",
    "    3: 'PAN-PRI-PRD',\n",
    "    4: 'MORENA-PT-Partido Verde',\n",
    "    5: 'MORENA-PT-Partido Verde',\n",
    "    6: 'Movimiento Ciudadano',\n",
    "    7: 'MORENA-PT-Partido Verde',\n",
    "    98: 'NS',\n",
    "    97: 'Ninguno',\n",
    "    96: 'Ninguno',\n",
    "    98: 'NS',\n",
    "    99: 'NR'\n",
    "}\n",
    "# Agregar la columna 'partido' basada en la columna 'voto'\n",
    "selected_df['partido'] = selected_df['voto'].map(mapeo_partidos)\n",
    "selected_df['encuesta'] = 1\n",
    "tot = selected_df['ponderado'].sum()\n",
    "selected_df['homo_pon'] = (selected_df['ponderado']*n)/tot\n",
    "selected_df['homo_pon'].sum()\n",
    "selected_df.to_csv('bd/buendia_marquez/buendia_marquez.csv', index=False)\n"
   ]
  },
  {
   "cell_type": "markdown",
   "metadata": {},
   "source": [
    "# Enkoll"
   ]
  },
  {
   "cell_type": "code",
   "execution_count": 6,
   "metadata": {},
   "outputs": [
    {
     "name": "stdout",
     "output_type": "stream",
     "text": [
      "Index(['SbjNum', 'Clave.Ent', 'Entidad', 'Clave.Mun', 'Municipio',\n",
      "       'Clave.Localidad', 'Localidad', 'Clave.Sec', 'Clave.Manzana', 'PA',\n",
      "       'PB', 'B1', 'PD', 'P1_1', 'P1_2', 'P1_3', 'P1_5', 'P1_6', 'P1_7',\n",
      "       'P2_1', 'P2_2', 'P2_3', 'P2_5', 'P2_6', 'P2_7', 'P3', 'P3_1', 'P4',\n",
      "       'P5', 'P7', 'P8', 'P9', 'P10', 'P11', 'P12_1', 'P12_2', 'P12_4',\n",
      "       'P12_5', 'NIVEL', 'Ponderador'],\n",
      "      dtype='object')\n"
     ]
    },
    {
     "name": "stderr",
     "output_type": "stream",
     "text": [
      "/var/folders/qj/j8gpmhcn7yb095gzd1m03s300000gn/T/ipykernel_6362/1810426125.py:15: SettingWithCopyWarning: \n",
      "A value is trying to be set on a copy of a slice from a DataFrame.\n",
      "Try using .loc[row_indexer,col_indexer] = value instead\n",
      "\n",
      "See the caveats in the documentation: https://pandas.pydata.org/pandas-docs/stable/user_guide/indexing.html#returning-a-view-versus-a-copy\n",
      "  selected_df['partido'] = selected_df['voto'].map(mapeo_partidos_candidatos)\n",
      "/var/folders/qj/j8gpmhcn7yb095gzd1m03s300000gn/T/ipykernel_6362/1810426125.py:16: SettingWithCopyWarning: \n",
      "A value is trying to be set on a copy of a slice from a DataFrame.\n",
      "Try using .loc[row_indexer,col_indexer] = value instead\n",
      "\n",
      "See the caveats in the documentation: https://pandas.pydata.org/pandas-docs/stable/user_guide/indexing.html#returning-a-view-versus-a-copy\n",
      "  selected_df['encuesta'] = 2\n",
      "/var/folders/qj/j8gpmhcn7yb095gzd1m03s300000gn/T/ipykernel_6362/1810426125.py:17: SettingWithCopyWarning: \n",
      "A value is trying to be set on a copy of a slice from a DataFrame.\n",
      "Try using .loc[row_indexer,col_indexer] = value instead\n",
      "\n",
      "See the caveats in the documentation: https://pandas.pydata.org/pandas-docs/stable/user_guide/indexing.html#returning-a-view-versus-a-copy\n",
      "  selected_df['inverso']= 1/selected_df['ponderado']\n",
      "/var/folders/qj/j8gpmhcn7yb095gzd1m03s300000gn/T/ipykernel_6362/1810426125.py:19: SettingWithCopyWarning: \n",
      "A value is trying to be set on a copy of a slice from a DataFrame.\n",
      "Try using .loc[row_indexer,col_indexer] = value instead\n",
      "\n",
      "See the caveats in the documentation: https://pandas.pydata.org/pandas-docs/stable/user_guide/indexing.html#returning-a-view-versus-a-copy\n",
      "  selected_df['homo_pon'] = (selected_df['inverso']*n)/tot\n"
     ]
    }
   ],
   "source": [
    "df = pd.read_excel('bd/enkoll/Estudio-Enkoll-basededatos.xlsx', sheet_name='encuesta', engine='openpyxl')\n",
    "print(df.columns)\n",
    "selected_df = df[['Clave.Ent', 'P12_1', 'PA', 'PB', 'Ponderador']]\n",
    "selected_df.columns = ['estado', 'voto', 'genero', 'edad', 'ponderado']\n",
    "mapeo_partidos_candidatos = {\n",
    "    1: 'MORENA-PT-Partido Verde',\n",
    "    2: 'PAN-PRI-PRD',\n",
    "    3: 'Movimiento Ciudadano',\n",
    "    97: 'Ninguno',\n",
    "    98: 'NS',\n",
    "    99: 'NR'\n",
    "}\n",
    "\n",
    "# Agregar la columna 'partido' basada en la columna 'voto'\n",
    "selected_df['partido'] = selected_df['voto'].map(mapeo_partidos_candidatos)\n",
    "selected_df['encuesta'] = 2\n",
    "selected_df['inverso']= 1/selected_df['ponderado']\n",
    "tot = selected_df['inverso'].sum()\n",
    "selected_df['homo_pon'] = (selected_df['inverso']*n)/tot\n",
    "selected_df['homo_pon'].sum()\n",
    "selected_df.to_csv('bd/enkoll/enkoll.csv', index=False)"
   ]
  },
  {
   "cell_type": "markdown",
   "metadata": {},
   "source": [
    "# Mitofsky"
   ]
  },
  {
   "cell_type": "code",
   "execution_count": 7,
   "metadata": {},
   "outputs": [
    {
     "name": "stdout",
     "output_type": "stream",
     "text": [
      "Index(['edo', 'seccion', 'mz', 'folio', 'r1', 'r2', 'r3', 'r4', 'r5', 'r6',\n",
      "       'r7', 'r8', 'r9', 'r10', 'f1', 'p1', 'p2', 'p3a_1', 'p3a_2', 'p3a_3',\n",
      "       'p3b_1', 'p3b_2', 'p3b_3', 'boleta', 'p4', 'p5_1', 'p5_2', 'p5_3',\n",
      "       'p5_4', 'p5_5', 'p5_6', 'p5_7', 'p5_8', 'p5_9', 'p6', 'p7', 'p8', 'a',\n",
      "       'b', 'c', 'd', 'e', 'f', 'g', 'h', 'factor'],\n",
      "      dtype='object')\n"
     ]
    },
    {
     "name": "stderr",
     "output_type": "stream",
     "text": [
      "/var/folders/qj/j8gpmhcn7yb095gzd1m03s300000gn/T/ipykernel_6362/3594587809.py:14: SettingWithCopyWarning: \n",
      "A value is trying to be set on a copy of a slice from a DataFrame.\n",
      "Try using .loc[row_indexer,col_indexer] = value instead\n",
      "\n",
      "See the caveats in the documentation: https://pandas.pydata.org/pandas-docs/stable/user_guide/indexing.html#returning-a-view-versus-a-copy\n",
      "  selected_df['partido'] = selected_df['voto'].map(mapeo_partidos)\n",
      "/var/folders/qj/j8gpmhcn7yb095gzd1m03s300000gn/T/ipykernel_6362/3594587809.py:15: SettingWithCopyWarning: \n",
      "A value is trying to be set on a copy of a slice from a DataFrame.\n",
      "Try using .loc[row_indexer,col_indexer] = value instead\n",
      "\n",
      "See the caveats in the documentation: https://pandas.pydata.org/pandas-docs/stable/user_guide/indexing.html#returning-a-view-versus-a-copy\n",
      "  selected_df['encuesta'] = 3\n",
      "/var/folders/qj/j8gpmhcn7yb095gzd1m03s300000gn/T/ipykernel_6362/3594587809.py:17: SettingWithCopyWarning: \n",
      "A value is trying to be set on a copy of a slice from a DataFrame.\n",
      "Try using .loc[row_indexer,col_indexer] = value instead\n",
      "\n",
      "See the caveats in the documentation: https://pandas.pydata.org/pandas-docs/stable/user_guide/indexing.html#returning-a-view-versus-a-copy\n",
      "  selected_df['homo_pon'] = (selected_df['ponderado']*n)/tot\n"
     ]
    },
    {
     "data": {
      "text/plain": [
       "99078159.0"
      ]
     },
     "execution_count": 7,
     "metadata": {},
     "output_type": "execute_result"
    }
   ],
   "source": [
    "# Read the .sav file using pyreadstat\n",
    "df, meta = pyreadstat.read_sav('bd/mitofsky/Base Nacional (Mar 24).sav')\n",
    "print(df.columns)\n",
    "selected_df = df[['edo', 'p2', 'a', 'b', 'factor']]\n",
    "selected_df.columns = ['estado', 'voto', 'genero', 'edad', 'ponderado']\n",
    "mapeo_partidos = {\n",
    "    1: 'PAN-PRI-PRD',\n",
    "    2: 'MORENA-PT-Partido Verde',\n",
    "    3: 'Movimiento Ciudadano',\n",
    "    8: 'Ninguno',\n",
    "    9: 'NS'\n",
    "}\n",
    "# Agregar la columna 'partido' basada en la columna 'voto'\n",
    "selected_df['partido'] = selected_df['voto'].map(mapeo_partidos)\n",
    "selected_df['encuesta'] = 3\n",
    "tot = selected_df['ponderado'].sum()\n",
    "selected_df['homo_pon'] = (selected_df['ponderado']*n)/tot\n",
    "selected_df.to_csv('bd/mitofsky/mitofsky.csv', index=False)\n",
    "selected_df['homo_pon'].sum()\n"
   ]
  },
  {
   "cell_type": "markdown",
   "metadata": {},
   "source": [
    "# TECNOLOGÍA ESTADÍSTICA"
   ]
  },
  {
   "cell_type": "code",
   "execution_count": 8,
   "metadata": {},
   "outputs": [
    {
     "name": "stdout",
     "output_type": "stream",
     "text": [
      "Index(['NO_ENC', 'ESTADO', 'Z_SEG', 'ZONA', 'EDO_CIV', 'EST_N', 'GRAD_MAX',\n",
      "       'DEDICA', 'TPO_TRAB', 'INTERNET', 'ACONTECE', 'APROBAM', 'CAL_AML',\n",
      "       'CALEPN_N', 'MEJOR_POL', 'PEOR_POL', 'DIRIA_AMLO_N', 'SIT_ECON',\n",
      "       'INGRESOS', 'PROBLEMA_N', 'EDAD_G', 'FELIZ', 'POLITIC', 'PRPXPTE_N',\n",
      "       'APOYO', 'IDENTIFICADO2', 'ALIANZA2', 'APOYARIA_MC', 'CANDIDATOS5',\n",
      "       'CANDIDATOS5_PY', 'CALIFGOB', 'CALIFGOB_N', 'CANDIDATOS6', 'CANDMORENA',\n",
      "       'SEXO'],\n",
      "      dtype='object')\n"
     ]
    },
    {
     "name": "stderr",
     "output_type": "stream",
     "text": [
      "/var/folders/qj/j8gpmhcn7yb095gzd1m03s300000gn/T/ipykernel_6362/2813312625.py:4: SettingWithCopyWarning: \n",
      "A value is trying to be set on a copy of a slice from a DataFrame.\n",
      "Try using .loc[row_indexer,col_indexer] = value instead\n",
      "\n",
      "See the caveats in the documentation: https://pandas.pydata.org/pandas-docs/stable/user_guide/indexing.html#returning-a-view-versus-a-copy\n",
      "  selected_df['ponderado'] = 1\n",
      "/var/folders/qj/j8gpmhcn7yb095gzd1m03s300000gn/T/ipykernel_6362/2813312625.py:15: SettingWithCopyWarning: \n",
      "A value is trying to be set on a copy of a slice from a DataFrame.\n",
      "Try using .loc[row_indexer,col_indexer] = value instead\n",
      "\n",
      "See the caveats in the documentation: https://pandas.pydata.org/pandas-docs/stable/user_guide/indexing.html#returning-a-view-versus-a-copy\n",
      "  selected_df['partido'] = selected_df['voto'].map(mapeo_partidos)\n",
      "/var/folders/qj/j8gpmhcn7yb095gzd1m03s300000gn/T/ipykernel_6362/2813312625.py:16: SettingWithCopyWarning: \n",
      "A value is trying to be set on a copy of a slice from a DataFrame.\n",
      "Try using .loc[row_indexer,col_indexer] = value instead\n",
      "\n",
      "See the caveats in the documentation: https://pandas.pydata.org/pandas-docs/stable/user_guide/indexing.html#returning-a-view-versus-a-copy\n",
      "  selected_df['encuesta'] = 4\n",
      "/var/folders/qj/j8gpmhcn7yb095gzd1m03s300000gn/T/ipykernel_6362/2813312625.py:17: SettingWithCopyWarning: \n",
      "A value is trying to be set on a copy of a slice from a DataFrame.\n",
      "Try using .loc[row_indexer,col_indexer] = value instead\n",
      "\n",
      "See the caveats in the documentation: https://pandas.pydata.org/pandas-docs/stable/user_guide/indexing.html#returning-a-view-versus-a-copy\n",
      "  selected_df['inverso']= 1/selected_df['ponderado']\n",
      "/var/folders/qj/j8gpmhcn7yb095gzd1m03s300000gn/T/ipykernel_6362/2813312625.py:19: SettingWithCopyWarning: \n",
      "A value is trying to be set on a copy of a slice from a DataFrame.\n",
      "Try using .loc[row_indexer,col_indexer] = value instead\n",
      "\n",
      "See the caveats in the documentation: https://pandas.pydata.org/pandas-docs/stable/user_guide/indexing.html#returning-a-view-versus-a-copy\n",
      "  selected_df['homo_pon'] = (selected_df['inverso']*n)/tot\n"
     ]
    },
    {
     "data": {
      "text/plain": [
       "99078159.0"
      ]
     },
     "execution_count": 8,
     "metadata": {},
     "output_type": "execute_result"
    }
   ],
   "source": [
    "\n",
    "df, meta = pyreadstat.read_sav('bd/te/2023-10-02, BASE NACIONAL.sav')\n",
    "print(df.columns)\n",
    "selected_df = df[['ESTADO', 'POLITIC', 'SEXO', 'EDAD_G']]\n",
    "selected_df['ponderado'] = 1\n",
    "selected_df.columns = ['estado', 'voto', 'genero', 'edad', 'ponderado']\n",
    "mapeo_partidos = {\n",
    "    1: 'NS',\n",
    "    2: 'NR',\n",
    "    3: 'Ninguno',\n",
    "    4: 'MORENA-PT-Partido Verde',\n",
    "    5: 'PAN-PRI-PRD',\n",
    "    6: 'Movimiento Ciudadano'\n",
    "}\n",
    "# Agregar la columna 'partido' basada en la columna 'voto'\n",
    "selected_df['partido'] = selected_df['voto'].map(mapeo_partidos)\n",
    "selected_df['encuesta'] = 4\n",
    "selected_df['inverso']= 1/selected_df['ponderado']\n",
    "tot = selected_df['inverso'].sum()\n",
    "selected_df['homo_pon'] = (selected_df['inverso']*n)/tot\n",
    "selected_df.to_csv('bd/te/te.csv', index=False)\n",
    "selected_df['homo_pon'].sum()"
   ]
  },
  {
   "cell_type": "markdown",
   "metadata": {},
   "source": [
    "# Covarrubias"
   ]
  },
  {
   "cell_type": "code",
   "execution_count": 9,
   "metadata": {},
   "outputs": [
    {
     "name": "stdout",
     "output_type": "stream",
     "text": [
      "Index(['SbjNum', 'Date', 'Latitude', 'Longitude', 'ESTADO', 'MPO', 'SECC',\n",
      "       'SEXO', 'EDAD', 'EDADR', 'D', 'P1', 'I_1_P2', 'I_1_P3', 'I_2_P2',\n",
      "       'I_2_P3', 'I_3_P2', 'I_3_P3', 'P4', 'P5', 'ESCOLA', 'BANOS', 'AUTOS',\n",
      "       'INTERNET', 'TRABAJA', 'HAB', 'PESO'],\n",
      "      dtype='object')\n"
     ]
    },
    {
     "name": "stderr",
     "output_type": "stream",
     "text": [
      "/var/folders/qj/j8gpmhcn7yb095gzd1m03s300000gn/T/ipykernel_6362/1680536539.py:16: SettingWithCopyWarning: \n",
      "A value is trying to be set on a copy of a slice from a DataFrame.\n",
      "Try using .loc[row_indexer,col_indexer] = value instead\n",
      "\n",
      "See the caveats in the documentation: https://pandas.pydata.org/pandas-docs/stable/user_guide/indexing.html#returning-a-view-versus-a-copy\n",
      "  selected_df['partido'] = selected_df['voto'].map(mapeo_partidos)\n",
      "/var/folders/qj/j8gpmhcn7yb095gzd1m03s300000gn/T/ipykernel_6362/1680536539.py:17: SettingWithCopyWarning: \n",
      "A value is trying to be set on a copy of a slice from a DataFrame.\n",
      "Try using .loc[row_indexer,col_indexer] = value instead\n",
      "\n",
      "See the caveats in the documentation: https://pandas.pydata.org/pandas-docs/stable/user_guide/indexing.html#returning-a-view-versus-a-copy\n",
      "  selected_df['encuesta'] = 5\n",
      "/var/folders/qj/j8gpmhcn7yb095gzd1m03s300000gn/T/ipykernel_6362/1680536539.py:20: SettingWithCopyWarning: \n",
      "A value is trying to be set on a copy of a slice from a DataFrame.\n",
      "Try using .loc[row_indexer,col_indexer] = value instead\n",
      "\n",
      "See the caveats in the documentation: https://pandas.pydata.org/pandas-docs/stable/user_guide/indexing.html#returning-a-view-versus-a-copy\n",
      "  selected_df['homo_pon'] = (selected_df['ponderado']*n)/tot\n"
     ]
    }
   ],
   "source": [
    "df, meta = pyreadstat.read_sav('bd/covarrubias/Nacional Febrero_Base de Datos.SAV')\n",
    "print(df.columns)\n",
    "selected_df = df[['ESTADO', 'P4','SEXO', 'EDAD', 'PESO']]\n",
    "selected_df.columns = ['N_estado', 'voto', 'genero', 'edad', 'ponderado']\n",
    "mapeo_partidos = {\n",
    "    1: 'PAN-PRI-PRD',\n",
    "    2: 'PAN-PRI-PRD',\n",
    "    3: 'PAN-PRI-PRD',\n",
    "    4: 'MORENA-PT-Partido Verde',\n",
    "    5: 'MORENA-PT-Partido Verde',\n",
    "    7: 'MORENA-PT-Partido Verde',\n",
    "    6: 'Movimiento Ciudadano',\n",
    "    8: 'Independiente',\n",
    "    99: 'NS'\n",
    "}\n",
    "selected_df['partido'] = selected_df['voto'].map(mapeo_partidos)\n",
    "selected_df['encuesta'] = 5\n",
    "selected_df['ponderado'].sum()\n",
    "tot = selected_df['ponderado'].sum()\n",
    "selected_df['homo_pon'] = (selected_df['ponderado']*n)/tot\n",
    "selected_df.to_csv('bd/covarrubias/covarrubias.csv', index=False)\n",
    "selected_df['homo_pon'].sum()\n",
    "orden_alfabetico = np.argsort(selected_df['N_estado'])"
   ]
  },
  {
   "cell_type": "markdown",
   "metadata": {},
   "source": [
    "# El financiero "
   ]
  },
  {
   "cell_type": "code",
   "execution_count": 10,
   "metadata": {},
   "outputs": [
    {
     "name": "stdout",
     "output_type": "stream",
     "text": [
      "Index(['Unnamed: 0', 'Levantamiento', 'Folio', 'Sexo',\n",
      "       '¿Qué edad tiene usted?',\n",
      "       'Si hoy hubiera elecciones para Presidente de la República, ¿por quién votaría usted?',\n",
      "       '¿Cuál es su opinión acerca de muy buena, buena, mala, muy mala...?; Xóchitl Gálvez',\n",
      "       'Claudia Sheinbaum',\n",
      "       'De las siguientes, ¿cuál opción le describe mejor a usted?',\n",
      "       'De los siguientes asuntos, ¿cuál considera usted que es el más urgente que debe atender el próximo gobierno de la República?',\n",
      "       '¿Cuál es su opinión acerca de...?: La reciente marcha en defensa de la democracia',\n",
      "       'La visita de Xóchitl Gálvez al Papa Francisco',\n",
      "       'La visita de Claudia Sheinbaum al Papa Francisco',\n",
      "       'Si hoy hubiera elecciones para Diputados Federales, ¿por cuál partido votaría usted?',\n",
      "       '¿Hasta qué año o grado aprobó (pasó) en la escuela? ¿Cuál es su último grado de estudios?',\n",
      "       'Región', 'Ponderador'],\n",
      "      dtype='object')\n"
     ]
    },
    {
     "name": "stderr",
     "output_type": "stream",
     "text": [
      "/Users/emilianoperezcaullieres/Library/CloudStorage/OneDrive-Personal/DOCUMENTOS/CIDE/8-ECO/SS/encuestas/enc_env/lib/python3.9/site-packages/openpyxl/worksheet/_reader.py:329: UserWarning: Unknown extension is not supported and will be removed\n",
      "  warn(msg)\n",
      "/var/folders/qj/j8gpmhcn7yb095gzd1m03s300000gn/T/ipykernel_6362/3450384455.py:5: SettingWithCopyWarning: \n",
      "A value is trying to be set on a copy of a slice from a DataFrame.\n",
      "Try using .loc[row_indexer,col_indexer] = value instead\n",
      "\n",
      "See the caveats in the documentation: https://pandas.pydata.org/pandas-docs/stable/user_guide/indexing.html#returning-a-view-versus-a-copy\n",
      "  selected_df['inverso']= 1/selected_df['ponderado']\n",
      "/var/folders/qj/j8gpmhcn7yb095gzd1m03s300000gn/T/ipykernel_6362/3450384455.py:7: SettingWithCopyWarning: \n",
      "A value is trying to be set on a copy of a slice from a DataFrame.\n",
      "Try using .loc[row_indexer,col_indexer] = value instead\n",
      "\n",
      "See the caveats in the documentation: https://pandas.pydata.org/pandas-docs/stable/user_guide/indexing.html#returning-a-view-versus-a-copy\n",
      "  selected_df['homo_pon'] = (selected_df['inverso']*n)/tot\n",
      "/var/folders/qj/j8gpmhcn7yb095gzd1m03s300000gn/T/ipykernel_6362/3450384455.py:8: SettingWithCopyWarning: \n",
      "A value is trying to be set on a copy of a slice from a DataFrame.\n",
      "Try using .loc[row_indexer,col_indexer] = value instead\n",
      "\n",
      "See the caveats in the documentation: https://pandas.pydata.org/pandas-docs/stable/user_guide/indexing.html#returning-a-view-versus-a-copy\n",
      "  selected_df['estado'] = \"NA\"\n",
      "/var/folders/qj/j8gpmhcn7yb095gzd1m03s300000gn/T/ipykernel_6362/3450384455.py:16: SettingWithCopyWarning: \n",
      "A value is trying to be set on a copy of a slice from a DataFrame.\n",
      "Try using .loc[row_indexer,col_indexer] = value instead\n",
      "\n",
      "See the caveats in the documentation: https://pandas.pydata.org/pandas-docs/stable/user_guide/indexing.html#returning-a-view-versus-a-copy\n",
      "  selected_df['partido'] = selected_df['voto'].map(mapeo_partidos_candidatos)\n"
     ]
    }
   ],
   "source": [
    "df = pd.read_excel('bd/elfinanciero/Estudio-ElFinanciero-presidNac-basededatos.xlsx', engine='openpyxl', header=1)\n",
    "print(df.columns)\n",
    "selected_df = df[['Si hoy hubiera elecciones para Presidente de la República, ¿por quién votaría usted?', 'Sexo', '¿Qué edad tiene usted?', 'Ponderador']]\n",
    "selected_df.columns = ['voto', 'genero', 'edad', 'ponderado']\n",
    "selected_df['inverso']= 1/selected_df['ponderado']\n",
    "tot = selected_df['inverso'].sum()\n",
    "selected_df['homo_pon'] = (selected_df['inverso']*n)/tot\n",
    "selected_df['estado'] = \"NA\"\n",
    "mapeo_partidos_candidatos = {\n",
    "    'Claudia Sheinbaum, Morena-PT-Partido Verde': 'MORENA-PT-Partido Verde',\n",
    "    'Xóchitl Gálvez, Frente Amplio PAN-PRI-PRD': 'PAN-PRI-PRD',\n",
    "    'Jorge Álvarez Máynez, Movimiento Ciudadano': 'Movimiento Ciudadano',\n",
    "    'Ninguno': 'Ninguno',\n",
    "    'NS/NC': 'NS'\n",
    "}\n",
    "selected_df['partido'] = selected_df['voto'].map(mapeo_partidos_candidatos)\n",
    "selected_df.to_csv('bd/elfinanciero/elfinanciero.csv', index=False)"
   ]
  },
  {
   "cell_type": "markdown",
   "metadata": {},
   "source": [
    "# MEBA"
   ]
  },
  {
   "cell_type": "code",
   "execution_count": 11,
   "metadata": {},
   "outputs": [
    {
     "name": "stdout",
     "output_type": "stream",
     "text": [
      "Index(['SbjNum', 'ESTADO', 'SECC', 'Edad', 'Sexo', 'CREDENCIAL', 'P2', 'P3A1',\n",
      "       'P3A2', 'P3A3', 'P3A4', 'P4', 'P5A', 'P5B', 'P5C', 'P6', 'P7', 'P8',\n",
      "       'PESOF'],\n",
      "      dtype='object')\n"
     ]
    },
    {
     "name": "stderr",
     "output_type": "stream",
     "text": [
      "/var/folders/qj/j8gpmhcn7yb095gzd1m03s300000gn/T/ipykernel_6362/255993222.py:6: SettingWithCopyWarning: \n",
      "A value is trying to be set on a copy of a slice from a DataFrame.\n",
      "Try using .loc[row_indexer,col_indexer] = value instead\n",
      "\n",
      "See the caveats in the documentation: https://pandas.pydata.org/pandas-docs/stable/user_guide/indexing.html#returning-a-view-versus-a-copy\n",
      "  selected_df['homo_pon'] = (selected_df['ponderado']*n)/tot\n",
      "/var/folders/qj/j8gpmhcn7yb095gzd1m03s300000gn/T/ipykernel_6362/255993222.py:18: SettingWithCopyWarning: \n",
      "A value is trying to be set on a copy of a slice from a DataFrame.\n",
      "Try using .loc[row_indexer,col_indexer] = value instead\n",
      "\n",
      "See the caveats in the documentation: https://pandas.pydata.org/pandas-docs/stable/user_guide/indexing.html#returning-a-view-versus-a-copy\n",
      "  selected_df['partido'] = selected_df['voto'].map(mapeo_partidos)\n"
     ]
    }
   ],
   "source": [
    "df = pd.read_excel('bd/meba/Estudio-MEBA-presidNac-basededatos.xlsx', engine='openpyxl', header=0)\n",
    "print(df.columns)\n",
    "selected_df = df[['ESTADO', 'P2', 'Sexo', 'Edad', 'PESOF']]\n",
    "selected_df.columns = ['estado', 'voto', 'genero', 'edad', 'ponderado']\n",
    "tot = selected_df['ponderado'].sum()\n",
    "selected_df['homo_pon'] = (selected_df['ponderado']*n)/tot\n",
    "mapeo_partidos = {\n",
    "    1: 'PAN-PRI-PRD',\n",
    "    2: 'PAN-PRI-PRD',\n",
    "    3: 'PAN-PRI-PRD',\n",
    "    4: 'MORENA-PT-Partido Verde',\n",
    "    5: 'MORENA-PT-Partido Verde',\n",
    "    6: 'Movimiento Ciudadano',\n",
    "    7: 'MORENA-PT-Partido Verde',\n",
    "    95: 'Ninguno',\n",
    "    98: 'NR',\n",
    "}\n",
    "selected_df['partido'] = selected_df['voto'].map(mapeo_partidos)\n",
    "selected_df.to_csv('bd/meba/meba.csv', index=False)"
   ]
  },
  {
   "cell_type": "markdown",
   "metadata": {},
   "source": [
    "# CIPRESO"
   ]
  },
  {
   "cell_type": "code",
   "execution_count": 12,
   "metadata": {},
   "outputs": [
    {
     "name": "stdout",
     "output_type": "stream",
     "text": [
      "Index(['P1', 'P2', 'P3', 'P4', 'P7', 'P9', 'P16', 'P17', 'P18', 'P19', 'P20',\n",
      "       'TIPO', 'd_cp', 'ESTRATO', 'TOT_MZA', 'CVE_ENT', 'P_18YMAS', 'W_CP',\n",
      "       'W_P', 'GEN', 'NIVEL_EDU', 'TOTAL_P18YMAS', 'TOTAL_P18YMAS_FAC',\n",
      "       'W_P_PE'],\n",
      "      dtype='object')\n"
     ]
    },
    {
     "name": "stderr",
     "output_type": "stream",
     "text": [
      "/var/folders/qj/j8gpmhcn7yb095gzd1m03s300000gn/T/ipykernel_6362/2618135563.py:6: SettingWithCopyWarning: \n",
      "A value is trying to be set on a copy of a slice from a DataFrame.\n",
      "Try using .loc[row_indexer,col_indexer] = value instead\n",
      "\n",
      "See the caveats in the documentation: https://pandas.pydata.org/pandas-docs/stable/user_guide/indexing.html#returning-a-view-versus-a-copy\n",
      "  selected_df['homo_pon'] = (selected_df['ponderado']*n)/tot\n",
      "/var/folders/qj/j8gpmhcn7yb095gzd1m03s300000gn/T/ipykernel_6362/2618135563.py:15: SettingWithCopyWarning: \n",
      "A value is trying to be set on a copy of a slice from a DataFrame.\n",
      "Try using .loc[row_indexer,col_indexer] = value instead\n",
      "\n",
      "See the caveats in the documentation: https://pandas.pydata.org/pandas-docs/stable/user_guide/indexing.html#returning-a-view-versus-a-copy\n",
      "  selected_df['partido'] = selected_df['voto'].map(mapeo_partidos_candidatos)\n"
     ]
    }
   ],
   "source": [
    "df = pd.read_excel('bd/cipreso/Estudio-CIPRESO-presidNac-basededatos.xlsx', engine='openpyxl', header=0)\n",
    "print(df.columns)\n",
    "selected_df = df[['CVE_ENT', 'P3', 'P17', 'P18', 'W_P_PE']]\n",
    "selected_df.columns = ['estado', 'voto', 'genero', 'edad', 'ponderado']\n",
    "tot = selected_df['ponderado'].sum()\n",
    "selected_df['homo_pon'] = (selected_df['ponderado']*n)/tot\n",
    "mapeo_partidos_candidatos = {\n",
    "    'MORENA-PT-PVEM': 'MORENA-PT-Partido Verde',\n",
    "    'PAN-PRI-PRD': 'PAN-PRI-PRD',\n",
    "    'Movimiento Ciudadano': 'Movimiento Ciudadano',\n",
    "    'No vota': 'Ninguno',\n",
    "    'Anula su voto': 'Ninguno',\n",
    "    'No sabe / No responde': 'NR'\n",
    "}\n",
    "selected_df['partido'] = selected_df['voto'].map(mapeo_partidos_candidatos)\n",
    "selected_df.to_csv('bd/cipreso/cipreso.csv', index=False)"
   ]
  },
  {
   "cell_type": "markdown",
   "metadata": {},
   "source": [
    "# GEA-ISA"
   ]
  },
  {
   "cell_type": "code",
   "execution_count": 13,
   "metadata": {},
   "outputs": [
    {
     "name": "stdout",
     "output_type": "stream",
     "text": [
      "Index(['folio', 'unidad', 'region', 'edad', 'sexo', 'P01a', 'P01b', 'P02',\n",
      "       'P03', 'P04a',\n",
      "       ...\n",
      "       'D14', 'D15', 'rechazos', 'ausentes', 'fecha', 'inicio', 'termino',\n",
      "       'duracion', 'pond', 'fexpm'],\n",
      "      dtype='object', length=223)\n"
     ]
    },
    {
     "name": "stderr",
     "output_type": "stream",
     "text": [
      "/var/folders/qj/j8gpmhcn7yb095gzd1m03s300000gn/T/ipykernel_6362/833478509.py:7: SettingWithCopyWarning: \n",
      "A value is trying to be set on a copy of a slice from a DataFrame.\n",
      "Try using .loc[row_indexer,col_indexer] = value instead\n",
      "\n",
      "See the caveats in the documentation: https://pandas.pydata.org/pandas-docs/stable/user_guide/indexing.html#returning-a-view-versus-a-copy\n",
      "  selected_df['homo_pon'] = (selected_df['ponderado']*n)/tot\n",
      "/var/folders/qj/j8gpmhcn7yb095gzd1m03s300000gn/T/ipykernel_6362/833478509.py:20: SettingWithCopyWarning: \n",
      "A value is trying to be set on a copy of a slice from a DataFrame.\n",
      "Try using .loc[row_indexer,col_indexer] = value instead\n",
      "\n",
      "See the caveats in the documentation: https://pandas.pydata.org/pandas-docs/stable/user_guide/indexing.html#returning-a-view-versus-a-copy\n",
      "  selected_df['partido'] = selected_df['voto'].map(mapeo_partidos)\n"
     ]
    }
   ],
   "source": [
    "# Read the .sav file using pyreadstat\n",
    "df, meta = pyreadstat.read_sav('bd/geaisa/GIMX202403p.sav')\n",
    "print(df.columns)\n",
    "selected_df = df[['region', 'P71', 'sexo', 'edad', 'fexpm']]\n",
    "selected_df.columns = ['estado', 'voto', 'genero', 'edad', 'ponderado']\n",
    "tot = selected_df['ponderado'].sum()\n",
    "selected_df['homo_pon'] = (selected_df['ponderado']*n)/tot\n",
    "mapeo_partidos = {\n",
    "    1: 'PAN-PRI-PRD',  # Coalición PAN, PRI, PRD\n",
    "    2: 'PAN-PRI-PRD',  # Coalición PAN, PRI, PRD\n",
    "    3: 'PAN-PRI-PRD',  # Coalición PAN, PRI, PRD\n",
    "    4: 'MORENA-PT-Partido Verde',  # Coalición MORENA, PT, Partido Verde\n",
    "    5: 'MORENA-PT-Partido Verde',  # Coalición MORENA, PT, Partido Verde\n",
    "    6: 'Movimiento Ciudadano',  # Movimiento Ciudadano solo\n",
    "    7: 'MORENA-PT-Partido Verde',  # Coalición MORENA, PT, Partido Verde\n",
    "    70: 'Ninguno',  # Ninguno\n",
    "    80: 'NR',  # No sabe\n",
    "    90: 'NR'  # No dice\n",
    "}\n",
    "selected_df['partido'] = selected_df['voto'].map(mapeo_partidos)\n",
    "selected_df.to_csv('bd/geaisa/geaisa.csv', index=False)"
   ]
  }
 ],
 "metadata": {
  "kernelspec": {
   "display_name": "Python 3",
   "language": "python",
   "name": "python3"
  },
  "language_info": {
   "codemirror_mode": {
    "name": "ipython",
    "version": 3
   },
   "file_extension": ".py",
   "mimetype": "text/x-python",
   "name": "python",
   "nbconvert_exporter": "python",
   "pygments_lexer": "ipython3",
   "version": "3.9.6"
  }
 },
 "nbformat": 4,
 "nbformat_minor": 2
}
